{
 "cells": [
  {
   "cell_type": "markdown",
   "metadata": {},
   "source": [
    "## AIML Module Project - ENSEMBLE TECHNIQUES - Project \n",
    "\n",
    "- Learner support material"
   ]
  },
  {
   "cell_type": "markdown",
   "metadata": {},
   "source": [
    "1. Import and warehouse data: \n",
    "    - Import all the given datasets from MYSQL server. Explore shape and size. \n",
    "    - Merge all datasets onto one and explore final shape and size.\n",
    "\n",
    "2. Data cleansing: \n",
    "    - Missing value treatment\n",
    "    - Convert categorical attributes to continuous using relevant functional knowledge\n",
    "    - Drop attribute/s if required using relevant functional knowledge\n",
    "    - Automate all the above steps\n",
    "\n",
    "3. Data analysis & visualisation: \n",
    "    - Perform detailed statistical analysis on the data.\n",
    "    - Perform a detailed univariate, bivariate and multivariate analysis with appropriate detailed comments after each analysis. \n",
    "\n",
    "4. Data pre-processing: \n",
    "    - Segregate predictors vs target attributes\n",
    "    - Check for target balancing and fix it if found imbalanced.\n",
    "    - Perform train-test split.\n",
    "    - Check if the train and test data have similar statistical characteristics when compared with original data.\n",
    "\n",
    "5. Model training, testing and tuning: \n",
    "    - Train and test all ensemble models taught in the learning module.\n",
    "        - Suggestion: Use standard ensembles available. Also you can design your own ensemble technique using weak classifiers.\n",
    "    - Display the classification accuracies for train and test data.\n",
    "    - Apply all the possible tuning techniques to train the best model for the given data. \n",
    "        - Suggestion: Use all possible hyper parameter combinations to extract the best accuracies. \n",
    "    - Display and compare all the models designed with their train and test accuracies.\n",
    "    - Select the final best trained model along with your detailed comments for selecting this model. \n",
    "    - Pickle the selected model for future use.\n",
    "\n",
    "6. GUI development: \n",
    "    - Design a clickable GUI desk application or web service application.\n",
    "    - This GUI should allow the user to input all future values and on a click use these values on the trained model above to predict.\n",
    "    - It should display the prediction.\n",
    "\n",
    "7. Conclusion and improvisation: \n",
    "    - Write your conclusion on the results.\n",
    "    - Detailed suggestions or improvements or on quality, quantity, variety, velocity, veracity etc. on the data points collected by the telecom operator to perform a better data analysis in future."
   ]
  },
  {
   "cell_type": "markdown",
   "metadata": {},
   "source": [
    "#### 1. Import and warehouse data: \n",
    "\n",
    "    - Import all the given datasets from MYSQL server. \n",
    "    - Explore shape and size. \n",
    "    - Merge all datasets onto one and explore final shape and size.\n",
    "      - Reference link: https://dev.mysql.com/doc/connector-python/en/connector-python-examples.html\n",
    "      - Recommended steps\n",
    "          1. Download and install MySql\n",
    "          2. Download and install MySql workbench\n",
    "          3. Use table import function from MySql workbench to import csv/excel datasets\n",
    "          4. Install and Import python's mysql connection library\n",
    "          5. Establish a virtual connection from python to MySql \n",
    "          6. Import MySql table (both tables) as pandas dataframes.\n",
    "          7. Merge pandas dataframes as one single dataframe"
   ]
  },
  {
   "cell_type": "markdown",
   "metadata": {},
   "source": [
    "#### 2. Data cleansing: \n",
    "    - Missing value treatment\n",
    "        - Reference link 1: https://www.kaggle.com/dansbecker/handling-missing-values\n",
    "        - Reference link 2: https://towardsdatascience.com/data-cleaning-with-python-and-pandas-detecting-missing-values-3e9c6ebcf78b\n",
    "        - Reference link 3: https://towardsdatascience.com/how-to-deal-with-missing-data-in-python-1f74a9112d93\n",
    "    - Convert categorical attributes to continuous using relevant functional knowledge\n",
    "        - Label encoder\n",
    "        - Dummies function\n",
    "        - One hot encoding\n",
    "        - Functional replacement using dictionary\n",
    "    - Drop attribute/s if required using relevant functional knowledge\n",
    "       \n",
    "    - Automate all the above steps\n",
    "        - Put all/some of the obove steps under a function"
   ]
  },
  {
   "cell_type": "markdown",
   "metadata": {},
   "source": [
    "#### 3. Data analysis & visualisation: \n",
    "\n",
    "    - Perform detailed statistical analysis on the data.\n",
    "        - Use statistical summary to analyse the feature patterns\n",
    "        - Use any other statistical/formula based graphs/visualisations\n",
    "    - Perform a detailed univariate, bivariate and multivariate analysis with appropriate detailed comments after each analysis. \n",
    "        - Identify top individual features which make relevance functionally/numerically w.r.t. to target and perform uni-variate analysis. \n",
    "        - Identify top individual features which make relevance functionally/numerically w.r.t. to target and perform bi-variate analysis. \n",
    "        - Identify top individual features which make relevance functionally/numerically w.r.t. to target and perform multi-variate analysis. \n",
    "        \n",
    "        - Hint: Use the power of plotly - https://plotly.com/python/"
   ]
  },
  {
   "cell_type": "markdown",
   "metadata": {},
   "source": [
    "#### 4. Data pre-processing: \n",
    "    - Segregate predictors vs target attributes\n",
    "    - Check for target balancing and fix it if found imbalanced.\n",
    "        - Option 1: Up-sampling (\n",
    "        - Option 2: Down-sampling\n",
    "        - Option 3: No change\n",
    "        - Reference: blog by our Great Learning AIML alumni - https://www.kaggle.com/saurav9786/feature-engineering-up-and-down-sampling\n",
    "        - Reference link: https://www.kaggle.com/rafjaa/resampling-strategies-for-imbalanced-datasets\n",
    "    - Perform train-test split.\n",
    "    - Check if the train and test data have similar statistical characteristics when compared with original data.\n",
    "        - Compare and check if ORIGINAL vs TRAIN vs TEST datasets have similar statistical characteristics"
   ]
  },
  {
   "cell_type": "markdown",
   "metadata": {},
   "source": [
    "#### 5. Model training, testing and tuning: \n",
    "    - Train and test all ensemble models taught in the learning module.\n",
    "        - Suggestion: Use standard ensembles available. Also you can design your own ensemble technique using weak classifiers. \n",
    "        \n",
    "        Hint:\n",
    "        \n",
    "        Recommended: Use standard ensemble techniques\n",
    "        \n",
    "        +\n",
    "        \n",
    "        Extra mile : Design and train LOGR, SVM, KNN, NB etc. individual algorithms. Pass the test data through each one, collect the predicted target, take a vote and the majority is the final predicted target.\n",
    "        \n",
    "    - Display the classification accuracies for train and test data.\n",
    "    - Apply all the possible tuning techniques to train the best model for the given data. \n",
    "        - Suggestion: Use all possible hyper parameter combinations to extract the best accuracies.\n",
    "        Hint: Use SHIFT + TAB over sklearn's classifier to get all details about hyperparameters\n",
    "    - Display and compare all the models designed with their train and test accuracies.\n",
    "    - Select the final best trained model along with your detailed comments for selecting this model. \n",
    "    - Pickle the selected model for future use.\n",
    "        - Reference link: https://www.geeksforgeeks.org/understanding-python-pickling-example/"
   ]
  },
  {
   "cell_type": "markdown",
   "metadata": {},
   "source": [
    "#### 6. GUI development: \n",
    "    - Design a clickable GUI desk application or web service application.\n",
    "    - This GUI should allow the user to input all future values and on a click use these values on the trained model above to predict.\n",
    "    - It should display the prediction."
   ]
  },
  {
   "cell_type": "code",
   "execution_count": 9,
   "metadata": {},
   "outputs": [],
   "source": [
    "# Import library\n",
    "\n",
    "from tkinter import *\n",
    "\n",
    "# App window\n",
    "TKINTER_GUI = Tk()\n",
    "\n",
    "TKINTER_GUI.title(\"AIML - EST MODULE PROJECT - GUI\")\n",
    "\n",
    "\n",
    "# Static text\n",
    "TEXT = Label(TKINTER_GUI, text=\"TKINTER TUTORIAL - KRISHNAV DAVE\")\n",
    "\n",
    "TEXT.grid(column=0, row=0)   # 0 row, 0 col\n",
    "\n",
    "def BUTTON_FUNCTION():\n",
    "\n",
    "    TEXT.configure(text=\"GUI REACTION TO THE BUTTON !!\")\n",
    "\n",
    "\n",
    "# Button    \n",
    "BUTTON = Button(TKINTER_GUI, text=\"Click Me\", command=BUTTON_FUNCTION)\n",
    "\n",
    "BUTTON.grid(column=1, row=1) # 1 row, 1 col\n",
    "\n",
    "\n",
    "# App closure\n",
    "TKINTER_GUI.mainloop()\n"
   ]
  },
  {
   "cell_type": "markdown",
   "metadata": {},
   "source": [
    "#### 7. Conclusion and improvisation: \n",
    "    - Write your conclusion on the results.\n",
    "    - Detailed suggestions or improvements or on quality, quantity, variety, velocity, veracity etc. on the data points collected by the telecom operator to perform a better data analysis in future.\n",
    "        - Thin: Was the data enough ? \n",
    "                Was the data relevant ?  \n",
    "                If more data could have been collected which would have enhanced your model's performance ?"
   ]
  },
  {
   "cell_type": "markdown",
   "metadata": {},
   "source": [
    "### Some pointers: \n",
    "\n",
    "- Learning and Innovation has no boundaries. They are directly proportional to each other. \n",
    "- Use your best possible efforts and analysis to solve the above problem at best.\n",
    "- Highlight all of your assumptions/decisions to support your code helping the moderator to trace your thinking while evaluating your code/approach."
   ]
  }
 ],
 "metadata": {
  "kernelspec": {
   "display_name": "Python 3",
   "language": "python",
   "name": "python3"
  },
  "language_info": {
   "codemirror_mode": {
    "name": "ipython",
    "version": 3
   },
   "file_extension": ".py",
   "mimetype": "text/x-python",
   "name": "python",
   "nbconvert_exporter": "python",
   "pygments_lexer": "ipython3",
   "version": "3.7.4"
  }
 },
 "nbformat": 4,
 "nbformat_minor": 4
}
